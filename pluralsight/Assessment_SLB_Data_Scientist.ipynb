{
 "cells": [
  {
   "cell_type": "markdown",
   "metadata": {},
   "source": [
    "# Role of SLB Data Scientist\n",
    "* __Author__: _Lei Fu_\n",
    "* __Date__: June 24th, 2020"
   ]
  },
  {
   "cell_type": "markdown",
   "metadata": {},
   "source": [
    "https://app.pluralsight.com/roleiq/roles/2d8bcbe6-5683-41b1-a3b8-628973f58515\n",
    "\n",
    "- <a>1. Data Analytics Literacy</a>\n",
    "- <a>1. Applied Data Mining with Python</a>"
   ]
  },
  {
   "cell_type": "markdown",
   "metadata": {},
   "source": [
    "## <a>1. Data Analytics Literacy</a>\n",
    "\n",
    "1. What does Bayes' Theorem describe?\n",
    "     - A way to compute the probability of an event given prior knowledge related to the event\n",
    "\n",
    "2. The Pearson correlation coefficient ranges from what to what?\n",
    "    - -1 to 1 and describes the linear correlation between two variables\n",
    "\n",
    "3. In your analysis of the results from a college admissions survey, you find that Simpson's paradox is in effect. What leads you to this conclusion?\n",
    "    - The overall trend is not reflected in the subgroups.\n",
    "\n",
    "5. What does the variance of a variable describe about a data set?\n",
    "    - How much values differ from the central tendency\n",
    "\n",
    "6. What is the opposite approach to deductive reasoning?\n",
    "    - Inductive reasoning\n",
    "\n",
    "7. Your company performs both email marketing and social media marketing. You are asked to determine if the customers who are acquired from social media marketing are more valuable than those who come through email marketing. In this case, what is the null hypothesis?\n",
    "    - There must be a significant difference between the two groups, but you cannot make an assumption about which group holds more value.\n",
    "    \n",
    "8. How would you describe the median of a distribution of values?\n",
    "    - The value separating the higher half of the data from the lower half\n",
    "\n",
    "11. You must confirm the conclusions that ice cream sales increase when the temperature increases. What is a good null hypothesis to use?\n",
    "    - Temperature has no effect on ice cream sales.\n",
    "\n",
    "12. Which of the following can be applied to a univariate data set?\n",
    "    - The median, the standard deviation, and the mean\n",
    "\n",
    "14. Normalization is applied to data during which of the following pre-processing steps?\n",
    "    - Data transformation\n",
    "\n",
    "15. What must you do when using Bayes' theorem to evaluate an experiment as new data arises?\n",
    "    - You must update your prior knowledge and reevaluate the likelihood.\n",
    "\n",
    "17. For a given statistical analysis, what is the probability that an observed test statistic is the same as, or less than, the value of the test statistic when the null hypothesis is true?\n",
    "    - P-value\n",
    "\n",
    "18. What assumption does the chi-squared test for single variance make?\n",
    "    - The population from which the sample has been drawn is normal.\n",
    "\n",
    "19. When determining what significance level (alpha) to use for evaluating an experiment, what must you consider?\n",
    "    - The relative cost (including opportunity cost) to the company of committing a type I error versus a type II error"
   ]
  },
  {
   "cell_type": "markdown",
   "metadata": {},
   "source": [
    "## <a>2. Applied Data Mining with Python</a>\n",
    "\n",
    "1. Which code uses the pgmpy library to meet the following conditions: -Create a Bayesian Network with data imported from http://testdata.com\n",
    "    - Divide the data into five columns (A,B,C,D,RESULT)\n",
    "    - Create and fit a Bayesian model by correlating column A to B, B to C and C to RESULT?\n",
    "\n"
   ]
  },
  {
   "cell_type": "code",
   "execution_count": null,
   "metadata": {},
   "outputs": [],
   "source": [
    "import pandas as pd\n",
    "from urllib.request import urlopen\n",
    "from pgmpy.models import BayesianModel\n",
    "\n",
    "names = \"A,B,C,D,RESULT\"\n",
    "names = names.split(\",\")\n",
    "data = pd.read_csv(urlopen(\"http://testdata.com\"),names=names)\n",
    "model = BayesianModel([(\"A\",\"B\"),(\"B\",\"C\"),(\"C\",\"RESULT\")])\n",
    "model.fit(data)"
   ]
  },
  {
   "cell_type": "markdown",
   "metadata": {},
   "source": [
    "2. Which type of statistical model is written in multiple levels using the probability of an event based on prior knowledge of conditions related to the event?\n",
    "    - Bayesian hierarchical Models\n",
    "    \n",
    "3. Using the LIME python library, which option creates a LIME explainer with training data (X_train), regression model (mode) and feature names (features), and explain the third index of the data?"
   ]
  },
  {
   "cell_type": "code",
   "execution_count": null,
   "metadata": {},
   "outputs": [],
   "source": [
    "import lime\n",
    "from lime.lime_tabular import LimeTabularExplainer\n",
    "exer = LimeTabularExplainer(X_train, mode='regression', \n",
    "                                 feature_names=features, \n",
    "                                 random_state=RANDOM_STATE)\n",
    "test_X_imp = imputer.transform(X_test)\n",
    "X_train_df = pd.DataFrame(test_X_imp, columns=features)\n",
    "feat_num = len(features)\n",
    "exp = exer.explain_instance(X_train_df.iloc[3,:].values, \n",
    "                                 estimator.predict, num_features=feat_num)"
   ]
  },
  {
   "cell_type": "markdown",
   "metadata": {},
   "source": [
    "4. You built a link prediction model which resulted into a True Positive score of 12, a True Negative score of 10, a False Positive score of 36, and a False Negative score of 18. What is the precision of the link prediction model?\n",
    "    - 0.25\n",
    "    \n",
    "5. What is the posterior probability formula?\n",
    "    - The likelihood of the data multiplied by the prior for the model parameters divided by a normalization constant.\n",
    "\n",
    "6. How is inverse document frequency useful?\n",
    "    - A word that occurs in all documents is not of much use.\n",
    "\n",
    "8. Which option shows the common form of a likelihood expression?\n",
    "    - L(parameters | data )\n",
    "\n",
    "9. You are creating a corpus on which a classification model will be trained for sentiment analysis. After preprocessing the data and generating word frequency you found ' i ' present in the highest frequency. What step did you miss?\n",
    "    - Stop word removal\n",
    "\n",
    "10. Which category comprises of the style transfer approach?\n",
    "    - <font color=green>Image transformation</font>\n",
    "    - Object detection\n",
    "    - Image compression\n",
    "\n",
    "13. What is a concern you must watch for while tuning the parameters of a decision tree classifier?\n",
    "    - Overfitting the algorithm for the training data\n",
    "\n",
    "14. How does collinearity between features affect the regression?\n",
    "    - It degrades the statistical power of the model\n",
    "\n",
    "15. You directed graph with three vertices, as shown in the figure. The first vertex has two incoming edges, the second vertex has two outgoing edges, and the third vertex has one incoming and one outgoing edge. What is the sum of the degrees of the vertices?\n",
    "    - 3\n",
    "\n",
    "16. You have been tasked with replacing missing data values in data set `data_set` and converting incorrect dataypes for the columns `Score` and `Amount`? Which option replaces all missing values with the not a number value from the NumPy library and changes the data types from object to float for the Score and Amount column?"
   ]
  },
  {
   "cell_type": "code",
   "execution_count": null,
   "metadata": {},
   "outputs": [],
   "source": [
    "import numpy as np\n",
    "data_set = data_set.replace({'Not Available': np.nan})\n",
    "\n",
    "for col in list(data_set.columns):\n",
    "    if ('Score' in col or 'Amount' in col):\n",
    "        data_set[col] = data_set[col].astype(float)"
   ]
  },
  {
   "cell_type": "markdown",
   "metadata": {},
   "source": [
    "18. When are network groups identified as \"Cliques\"?\n",
    "    - If every individual is directly tied to all other individuals.\n",
    "    \n"
   ]
  }
 ],
 "metadata": {
  "kernelspec": {
   "display_name": "Python 3",
   "language": "python",
   "name": "python3"
  },
  "language_info": {
   "codemirror_mode": {
    "name": "ipython",
    "version": 3
   },
   "file_extension": ".py",
   "mimetype": "text/x-python",
   "name": "python",
   "nbconvert_exporter": "python",
   "pygments_lexer": "ipython3",
   "version": "3.7.3"
  }
 },
 "nbformat": 4,
 "nbformat_minor": 2
}
